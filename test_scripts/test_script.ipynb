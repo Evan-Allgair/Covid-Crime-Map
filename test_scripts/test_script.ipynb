{
 "cells": [
  {
   "cell_type": "code",
   "execution_count": 34,
   "metadata": {},
   "outputs": [
    {
     "name": "stdout",
     "output_type": "stream",
     "text": [
      "Hello from server\n"
     ]
    }
   ],
   "source": [
    "import requests as req\n",
    "url = \"http://127.0.0.1:5000\"\n",
    "resp = req.get(url + '/')\n",
    "print(resp.text)"
   ]
  },
  {
   "cell_type": "markdown",
   "metadata": {},
   "source": [
    "mass GET checks"
   ]
  },
  {
   "cell_type": "code",
   "execution_count": 35,
   "metadata": {},
   "outputs": [],
   "source": [
    "covid = req.get(url + \"/covid\").text\n"
   ]
  },
  {
   "cell_type": "code",
   "execution_count": 36,
   "metadata": {},
   "outputs": [],
   "source": [
    "crime = req.get(url + \"/crime\").text\n"
   ]
  },
  {
   "cell_type": "code",
   "execution_count": 37,
   "metadata": {},
   "outputs": [],
   "source": [
    "food = req.get(url + \"/food_vendor\").text\n"
   ]
  },
  {
   "cell_type": "code",
   "execution_count": 38,
   "metadata": {},
   "outputs": [],
   "source": [
    "landmark = req.get(url + \"/landmarks\").text\n"
   ]
  },
  {
   "cell_type": "code",
   "execution_count": 39,
   "metadata": {},
   "outputs": [],
   "source": [
    "zipcode = req.get(url + \"/zipcodes\").text\n"
   ]
  },
  {
   "attachments": {},
   "cell_type": "markdown",
   "metadata": {},
   "source": [
    "Try and break the server"
   ]
  },
  {
   "cell_type": "code",
   "execution_count": 40,
   "metadata": {},
   "outputs": [
    {
     "data": {
      "text/plain": [
       "'<!doctype html>\\n<html lang=en>\\n<title>404 Not Found</title>\\n<h1>Not Found</h1>\\n<p>The requested URL was not found on the server. If you entered the URL manually please check your spelling and try again.</p>\\n'"
      ]
     },
     "execution_count": 40,
     "metadata": {},
     "output_type": "execute_result"
    }
   ],
   "source": [
    "random = req.get(url + \"/random\").text\n",
    "random"
   ]
  },
  {
   "cell_type": "code",
   "execution_count": 41,
   "metadata": {},
   "outputs": [
    {
     "name": "stdout",
     "output_type": "stream",
     "text": [
      "\u001b[1;32m Collecting covid data: PASSED\n",
      "\u001b[1;32m Collecting crime data: PASSED\n",
      "\u001b[1;32m Collecting zip code data: PASSED\n",
      "\u001b[1;32m Collecting food data: PASSED\n",
      "\u001b[1;32m Collecting landmark data: PASSED\n"
     ]
    }
   ],
   "source": [
    "\n",
    "job = \"Collecting covid data:\"\n",
    "if (covid != random):\n",
    "    print(f'\\033[1;32m {job} PASSED')\n",
    "else:\n",
    "    print(f'\\033[1;31m {job} FAILED')\n",
    "\n",
    "job = \"Collecting crime data:\"\n",
    "if (crime != random):\n",
    "    print(f'\\033[1;32m {job} PASSED')\n",
    "else:\n",
    "    print(f'\\033[1;31m {job} FAILED')\n",
    "\n",
    "job = \"Collecting zip code data:\"\n",
    "if (zipcode != random):\n",
    "    print(f'\\033[1;32m {job} PASSED')\n",
    "else:\n",
    "    print(f'\\033[1;31m {job} FAILED')\n",
    "\n",
    "job = \"Collecting food data:\"\n",
    "if (food != random):\n",
    "    print(f'\\033[1;32m {job} PASSED')\n",
    "else:\n",
    "    print(f'\\033[1;31m {job} FAILED')\n",
    "\n",
    "job = \"Collecting landmark data:\"\n",
    "if (landmark != random):\n",
    "    print(f'\\033[1;32m {job} PASSED')\n",
    "else:\n",
    "    print(f'\\033[1;31m {job} FAILED')"
   ]
  },
  {
   "attachments": {},
   "cell_type": "markdown",
   "metadata": {},
   "source": [
    "Print Responses"
   ]
  },
  {
   "cell_type": "code",
   "execution_count": null,
   "metadata": {},
   "outputs": [],
   "source": [
    "covid"
   ]
  },
  {
   "cell_type": "code",
   "execution_count": null,
   "metadata": {},
   "outputs": [],
   "source": [
    "crime"
   ]
  },
  {
   "cell_type": "code",
   "execution_count": null,
   "metadata": {},
   "outputs": [],
   "source": [
    "food"
   ]
  },
  {
   "cell_type": "code",
   "execution_count": null,
   "metadata": {},
   "outputs": [],
   "source": [
    "landmark"
   ]
  },
  {
   "cell_type": "code",
   "execution_count": null,
   "metadata": {},
   "outputs": [],
   "source": [
    "zipcode"
   ]
  }
 ],
 "metadata": {
  "kernelspec": {
   "display_name": "Python 3",
   "language": "python",
   "name": "python3"
  },
  "language_info": {
   "codemirror_mode": {
    "name": "ipython",
    "version": 3
   },
   "file_extension": ".py",
   "mimetype": "text/x-python",
   "name": "python",
   "nbconvert_exporter": "python",
   "pygments_lexer": "ipython3",
   "version": "3.10.6"
  },
  "orig_nbformat": 4,
  "vscode": {
   "interpreter": {
    "hash": "916dbcbb3f70747c44a77c7bcd40155683ae19c65e1c03b4aa3499c5328201f1"
   }
  }
 },
 "nbformat": 4,
 "nbformat_minor": 2
}
